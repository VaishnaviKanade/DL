{
 "cells": [
  {
   "cell_type": "code",
   "execution_count": 2,
   "id": "997b1277-db40-4b77-a63f-430838e6638f",
   "metadata": {},
   "outputs": [],
   "source": [
    "import tensorflow as tf\n",
    "from tensorflow.keras.models import Sequential\n",
    "from tensorflow.keras.layers import Dense,Flatten\n",
    "from tensorflow.keras.datasets import cifar10\n",
    "from tensorflow.keras.applications import VGG16"
   ]
  },
  {
   "cell_type": "code",
   "execution_count": 9,
   "id": "2e8d7c3b-09b3-47ae-a205-661c0a674341",
   "metadata": {},
   "outputs": [],
   "source": [
    "base_model=VGG16(weights='imagenet',include_top=False,input_shape=(32,32,3))"
   ]
  },
  {
   "cell_type": "code",
   "execution_count": 16,
   "id": "ac31925c-eddc-46df-9fe9-9107c26c3e85",
   "metadata": {},
   "outputs": [],
   "source": [
    "for layer in base_model.layers:\n",
    "    layer.trainable=False"
   ]
  },
  {
   "cell_type": "code",
   "execution_count": 17,
   "id": "48fd6458-c595-4140-ac43-1e881dbc7c72",
   "metadata": {},
   "outputs": [],
   "source": [
    "(x_train,y_train),(x_test,y_test)=cifar10.load_data()"
   ]
  },
  {
   "cell_type": "code",
   "execution_count": 18,
   "id": "a2bd0c11-fff3-48a1-ad8c-5ce55b12f50e",
   "metadata": {},
   "outputs": [],
   "source": [
    "x_train,x_test=x_train/255.5,x_test/255.5"
   ]
  },
  {
   "cell_type": "code",
   "execution_count": 19,
   "id": "6ef6d062-2082-48d8-8918-19f885b1ee5a",
   "metadata": {},
   "outputs": [],
   "source": [
    "model=Sequential([\n",
    "    base_model,\n",
    "    Flatten(),\n",
    "    Dense(128,activation='relu'),\n",
    "    Dense(10,activation='softmax')\n",
    "])"
   ]
  },
  {
   "cell_type": "code",
   "execution_count": 23,
   "id": "4cc22b11-d11d-41ac-b75b-b1ac2e87e675",
   "metadata": {},
   "outputs": [],
   "source": [
    "model.compile(optimizer='adam',loss='sparse_categorical_crossentropy',metrics=['accuracy']) "
   ]
  },
  {
   "cell_type": "code",
   "execution_count": 24,
   "id": "06d81814-776f-4be2-bcab-0fad2f0654d1",
   "metadata": {},
   "outputs": [
    {
     "name": "stdout",
     "output_type": "stream",
     "text": [
      "Epoch 1/5\n",
      "\u001b[1m1563/1563\u001b[0m \u001b[32m━━━━━━━━━━━━━━━━━━━━\u001b[0m\u001b[37m\u001b[0m \u001b[1m544s\u001b[0m 345ms/step - accuracy: 0.4647 - loss: 1.5360 - val_accuracy: 0.5546 - val_loss: 1.2658\n",
      "Epoch 2/5\n",
      "\u001b[1m1563/1563\u001b[0m \u001b[32m━━━━━━━━━━━━━━━━━━━━\u001b[0m\u001b[37m\u001b[0m \u001b[1m675s\u001b[0m 432ms/step - accuracy: 0.5889 - loss: 1.1884 - val_accuracy: 0.5866 - val_loss: 1.1846\n",
      "Epoch 3/5\n",
      "\u001b[1m1563/1563\u001b[0m \u001b[32m━━━━━━━━━━━━━━━━━━━━\u001b[0m\u001b[37m\u001b[0m \u001b[1m537s\u001b[0m 344ms/step - accuracy: 0.6076 - loss: 1.1356 - val_accuracy: 0.5816 - val_loss: 1.1855\n",
      "Epoch 4/5\n",
      "\u001b[1m1563/1563\u001b[0m \u001b[32m━━━━━━━━━━━━━━━━━━━━\u001b[0m\u001b[37m\u001b[0m \u001b[1m535s\u001b[0m 342ms/step - accuracy: 0.6169 - loss: 1.0930 - val_accuracy: 0.5944 - val_loss: 1.1532\n",
      "Epoch 5/5\n",
      "\u001b[1m1563/1563\u001b[0m \u001b[32m━━━━━━━━━━━━━━━━━━━━\u001b[0m\u001b[37m\u001b[0m \u001b[1m564s\u001b[0m 343ms/step - accuracy: 0.6287 - loss: 1.0535 - val_accuracy: 0.5931 - val_loss: 1.1616\n"
     ]
    },
    {
     "data": {
      "text/plain": [
       "<keras.src.callbacks.history.History at 0x26426c87450>"
      ]
     },
     "execution_count": 24,
     "metadata": {},
     "output_type": "execute_result"
    }
   ],
   "source": [
    "model.fit(x_train,y_train,epochs=5,validation_data=(x_test,y_test))"
   ]
  },
  {
   "cell_type": "code",
   "execution_count": 25,
   "id": "c3ed6df2-bbe9-4156-8375-4144deec2871",
   "metadata": {},
   "outputs": [
    {
     "name": "stdout",
     "output_type": "stream",
     "text": [
      "\u001b[1m313/313\u001b[0m \u001b[32m━━━━━━━━━━━━━━━━━━━━\u001b[0m\u001b[37m\u001b[0m \u001b[1m114s\u001b[0m 364ms/step - accuracy: 0.5949 - loss: 1.1564\n"
     ]
    },
    {
     "data": {
      "text/plain": [
       "1.1616182327270508"
      ]
     },
     "execution_count": 25,
     "metadata": {},
     "output_type": "execute_result"
    }
   ],
   "source": [
    "test_loss,test_accuracy=model.evaluate(x_test,y_test)\n",
    "test_accuracy\n",
    "test_loss "
   ]
  },
  {
   "cell_type": "code",
   "execution_count": 33,
   "id": "a32a0ec7-7cb5-4b1c-b3bc-7c0717c7fde9",
   "metadata": {},
   "outputs": [],
   "source": [
    "for layer in model.layers[-10:]:\n",
    "    layer.trainable=True"
   ]
  },
  {
   "cell_type": "code",
   "execution_count": 34,
   "id": "e3a8b287-a7fd-4da0-a6e4-d2a072a006ab",
   "metadata": {},
   "outputs": [],
   "source": [
    "model.compile(optimizer='adam',loss='sparse_categorical_crossentropy',metrics=['accuracy']) "
   ]
  },
  {
   "cell_type": "code",
   "execution_count": 35,
   "id": "c7c667dd-5907-4910-84e5-906ed4170103",
   "metadata": {},
   "outputs": [
    {
     "name": "stdout",
     "output_type": "stream",
     "text": [
      "Epoch 1/2\n",
      "\u001b[1m1563/1563\u001b[0m \u001b[32m━━━━━━━━━━━━━━━━━━━━\u001b[0m\u001b[37m\u001b[0m \u001b[1m369s\u001b[0m 231ms/step - accuracy: 0.5930 - loss: 1.1669 - val_accuracy: 0.5867 - val_loss: 1.1834\n",
      "Epoch 2/2\n",
      "\u001b[1m1563/1563\u001b[0m \u001b[32m━━━━━━━━━━━━━━━━━━━━\u001b[0m\u001b[37m\u001b[0m \u001b[1m239s\u001b[0m 153ms/step - accuracy: 0.6128 - loss: 1.1079 - val_accuracy: 0.5900 - val_loss: 1.1668\n"
     ]
    },
    {
     "data": {
      "text/plain": [
       "<keras.src.callbacks.history.History at 0x264498ef850>"
      ]
     },
     "execution_count": 35,
     "metadata": {},
     "output_type": "execute_result"
    }
   ],
   "source": [
    "model.fit(x_train,y_train,epochs=2,validation_data=(x_test,y_test))"
   ]
  },
  {
   "cell_type": "code",
   "execution_count": 36,
   "id": "f91d403b-260b-4109-a48f-5386d231a812",
   "metadata": {},
   "outputs": [],
   "source": [
    "for layer in base_model.layers[-10:]:\n",
    "    layer.trainable=True"
   ]
  },
  {
   "cell_type": "code",
   "execution_count": 37,
   "id": "3e67d6b0-90c0-416d-8909-a63621def5f2",
   "metadata": {},
   "outputs": [],
   "source": [
    "model=Sequential([\n",
    "    base_model,\n",
    "    Flatten(),\n",
    "    Dense(128,activation='relu'),\n",
    "    Dense(10,activation='softmax')\n",
    "])"
   ]
  },
  {
   "cell_type": "code",
   "execution_count": 38,
   "id": "d009dc78-4f52-4d01-8363-3a4638e69b83",
   "metadata": {},
   "outputs": [],
   "source": [
    "model.compile(optimizer='adam',loss='sparse_categorical_crossentropy',metrics=['accuracy']) "
   ]
  },
  {
   "cell_type": "code",
   "execution_count": 40,
   "id": "97efb6ec-e96e-450e-a21d-1a0bf2fe8277",
   "metadata": {},
   "outputs": [
    {
     "name": "stdout",
     "output_type": "stream",
     "text": [
      "Epoch 1/2\n",
      "\u001b[1m1563/1563\u001b[0m \u001b[32m━━━━━━━━━━━━━━━━━━━━\u001b[0m\u001b[37m\u001b[0m \u001b[1m1252s\u001b[0m 801ms/step - accuracy: 0.6925 - loss: 0.8989 - val_accuracy: 0.7062 - val_loss: 0.8841\n",
      "Epoch 2/2\n",
      "\u001b[1m1563/1563\u001b[0m \u001b[32m━━━━━━━━━━━━━━━━━━━━\u001b[0m\u001b[37m\u001b[0m \u001b[1m21772s\u001b[0m 14s/step - accuracy: 0.7380 - loss: 0.7924 - val_accuracy: 0.7225 - val_loss: 0.9018\n"
     ]
    },
    {
     "data": {
      "text/plain": [
       "<keras.src.callbacks.history.History at 0x2644b421750>"
      ]
     },
     "execution_count": 40,
     "metadata": {},
     "output_type": "execute_result"
    }
   ],
   "source": [
    "model.fit(x_train,y_train,epochs=2,validation_data=(x_test,y_test))"
   ]
  },
  {
   "cell_type": "code",
   "execution_count": null,
   "id": "5e23adb4-45ce-4fad-ad3e-02b8b439d9f9",
   "metadata": {},
   "outputs": [],
   "source": []
  }
 ],
 "metadata": {
  "kernelspec": {
   "display_name": "Python 3 (ipykernel)",
   "language": "python",
   "name": "python3"
  },
  "language_info": {
   "codemirror_mode": {
    "name": "ipython",
    "version": 3
   },
   "file_extension": ".py",
   "mimetype": "text/x-python",
   "name": "python",
   "nbconvert_exporter": "python",
   "pygments_lexer": "ipython3",
   "version": "3.11.3"
  }
 },
 "nbformat": 4,
 "nbformat_minor": 5
}
